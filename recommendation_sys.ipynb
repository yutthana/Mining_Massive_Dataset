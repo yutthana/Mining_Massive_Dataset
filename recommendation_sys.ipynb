{
 "cells": [
  {
   "cell_type": "markdown",
   "metadata": {
    "collapsed": true
   },
   "source": [
    "# Recommendation System Project Notebook Version"
   ]
  },
  {
   "cell_type": "markdown",
   "metadata": {},
   "source": [
    "## read rating data and meta data "
   ]
  },
  {
   "cell_type": "markdown",
   "metadata": {},
   "source": [
    "3 files will be created (2 training and 1 testing)\n",
    "\n",
    "* content-based file will have reviewerID, review text, asin, and rating. 80% from whole data\n",
    "* collaborative filtering file will have reviewerID, asin, and rating. 80% from whole data(same data as above but no reviewText)\n",
    "* testing file will have the rest 20% of data with reviewerID, asin, and rating.\n"
   ]
  },
  {
   "cell_type": "code",
   "execution_count": 1,
   "metadata": {
    "collapsed": true
   },
   "outputs": [],
   "source": [
    "import gzip\n",
    "import csv\n",
    "from random import randint\n",
    "\n",
    "#read file from json.gz to csv and delete unused key \n",
    "\n",
    "#path file and number of data ex. 500k    \n",
    "def parsecsvContent(path1, path2, path3, num):\n",
    "    f = open(path1, 'wb') #content.csv file name\n",
    "    a = open(path2, 'wb') #cf.csv filename\n",
    "    b = open(path3, 'wb') #testing filename\n",
    "    unusedKey = ['helpful', 'reviewerName', 'summary', 'unixReviewTime', 'reviewTime'] #for content based\n",
    "    g = gzip.open(\"reviews_Movies_and_TV.json.gz\", 'r') \n",
    "    count = 1\n",
    "    for l in g:\n",
    "        data = eval(l)\n",
    "        #delete unusedkey\n",
    "        for key in unusedKey:\n",
    "            if key in data:\n",
    "                del data[key]        \n",
    "        #set header\n",
    "        if count == 1:\n",
    "            w = csv.DictWriter(f, data.keys()) #content\n",
    "            w.writeheader()\n",
    "            if('reviewText' in data):\n",
    "                    del data['reviewText']\n",
    "            u = csv.DictWriter(a, data.keys()) #cf\n",
    "            u.writeheader()\n",
    "            v = csv.DictWriter(b, data.keys()) #testing\n",
    "            v.writeheader()\n",
    "\n",
    "        count += 1\n",
    "        if count == num:\n",
    "            break\n",
    "        # write data\n",
    "        if count <= num:\n",
    "            if(randint(0,9) < 2): #select 20%\n",
    "                if('reviewText' in data):\n",
    "                    del data['reviewText']\n",
    "                v.writerow(data)\n",
    "            else:\n",
    "                w.writerow(data) # write to content.csv\n",
    "                if('reviewText' in data):\n",
    "                    del data['reviewText']\n",
    "                u.writerow(data)\n",
    "        \n",
    "    f.close()\n",
    "    a.close()\n",
    "    b.close()\n",
    "    return 0     \n",
    " \n",
    "    \n",
    "def parsecsvMeta(path):\n",
    "    f = open(path, 'wb') #training set file name\n",
    "\n",
    "    unusedMeta = ['title', 'imUrl', 'related', 'salesRank', 'brand', 'categories', 'description'] #for meta file\n",
    "\n",
    "    g = gzip.open('meta_Movies_and_TV.json.gz', 'r') \n",
    "    count = 1\n",
    "    for l in g:\n",
    "        data = eval(l)\n",
    "        #delete unusedkey\n",
    "        for key in unusedMeta: \n",
    "            if key in data:\n",
    "                del data[key]        \n",
    "        #set header\n",
    "        if count == 1:\n",
    "            w = csv.DictWriter(f, data.keys())\n",
    "            w.writeheader()\n",
    "\n",
    "        count += 1\n",
    "\n",
    "        w.writerow(data)\n",
    "       \n",
    "    f.close()\n",
    "    return 0       \n",
    "\n",
    "\n",
    "numData = 4000000 #total data used in project\n",
    "\n",
    "parsecsvContent(\"ContentAll.csv\", \"CFAll.csv\", \"Testing20%.csv\", numData)\n",
    "\n",
    "parsecsvMeta(\"MetaData.csv\")\n",
    "\n",
    "print 'Finished creating files'"
   ]
  },
  {
   "cell_type": "markdown",
   "metadata": {},
   "source": [
    "## run collaborative filtering"
   ]
  },
  {
   "cell_type": "code",
   "execution_count": 1,
   "metadata": {
    "collapsed": false
   },
   "outputs": [
    {
     "name": "stdout",
     "output_type": "stream",
     "text": [
      "Finished collaborative filtering\n"
     ]
    }
   ],
   "source": [
    "import pandas as pd\n",
    "from pandas import *\n",
    "from scipy import spatial\n",
    "import numpy as np\n",
    "\n",
    "#read data from csv\n",
    "def readcsv(path):\n",
    "    return pd.read_csv(path, iterator=True, chunksize=10000, skip_blank_lines=True)\n",
    "\n",
    "#normalize cosine distance item-item\n",
    "\n",
    "tp = readcsv(\"CFAll.csv\")\n",
    "df = concat(tp, ignore_index=True)\n",
    "\n",
    "#delete item which has less number of ratings than 500\n",
    "df = df.groupby(\"asin\").filter(lambda x: len(x) > 500)\n",
    "\n",
    "#create utility matrix\n",
    "table = df.pivot_table(values='overall', index=['reviewerID'], columns=['asin'])\n",
    "df = None\n",
    "#normalize data\n",
    "table = table.apply(lambda x: (x - np.mean(x)))\n",
    "\n",
    "\n",
    "#fill emptyspace with 0\n",
    "table = table.fillna(value=0)\n",
    "\n",
    "#create table to hold result\n",
    "result = pd.DataFrame(index=table.columns,columns=table.columns)\n",
    "\n",
    "\n",
    "#for each item\n",
    "for i in range(0,len(result.columns)):\n",
    "    #compare with another item\n",
    "    for j in range(0,len(result.columns)): \n",
    "        #find cosine similarity of item1 and item2\n",
    "        result.ix[i,j] = 1-spatial.distance.cosine(table.ix[:,i],table.ix[:,j])\n",
    "result.to_csv('cf_cosine.csv')\n",
    "#table to hold the similarity of item\n",
    "rank = pd.DataFrame(index=result.columns,columns=range(1,11))\n",
    "\n",
    "#rank data based on cosine similarity(10)\n",
    "for i in range(0,len(result.columns)):\n",
    "    rank.ix[i,:10] = result.ix[0:,i].sort_values(ascending=False)[:10].index\n",
    "\n",
    "#for i in range(0,len(result.columns)): (all)\n",
    "#    rank.ix[i,:] = df1.ix[0:,i].order(ascending=False)[:].index\n",
    "\n",
    "#write to file\n",
    "rank.to_csv('result_cf_All.csv')\n",
    "\n",
    "print 'Finished collaborative filtering'"
   ]
  },
  {
   "cell_type": "markdown",
   "metadata": {},
   "source": [
    "## run content-based"
   ]
  },
  {
   "cell_type": "markdown",
   "metadata": {},
   "source": [
    "### get most frequence words"
   ]
  },
  {
   "cell_type": "code",
   "execution_count": 2,
   "metadata": {
    "collapsed": false
   },
   "outputs": [
    {
     "name": "stdout",
     "output_type": "stream",
     "text": [
      "Finished getting most frequence word\n"
     ]
    }
   ],
   "source": [
    "from sklearn.feature_extraction.text import TfidfVectorizer\n",
    "\n",
    "tf = TfidfVectorizer(analyzer='word', min_df = 0, stop_words = 'english')\n",
    "\n",
    "def f(x):\n",
    "     return Series(dict(Text = \"{%s}\" % ', '.join(str(ele) for ele in x['reviewText']), \n",
    "                        rating = x[\"overall\"].mean()))\n",
    "\n",
    "#read data from csv\n",
    "def readcsv(path):\n",
    "    return pd.read_csv(path, iterator=True, chunksize=10000, skip_blank_lines=True)\n",
    "\n",
    "#normalize cosine distance item-item\n",
    "\n",
    "tp = readcsv(\"ContentAll.csv\")\n",
    "df = concat(tp, ignore_index=True)\n",
    "\n",
    "#delete item which has less number of ratings than 500\n",
    "df = df.groupby(\"asin\").filter(lambda x: len(x) > 500)\n",
    "df = df.groupby(\"asin\").apply(f)\n",
    "#df = df.drop(df.columns[[0]], axis=1)\n",
    "\n",
    "#print first asin review text\n",
    "#print len(df.ix[1,0].split(','))\n",
    "\n",
    "\n",
    "\n",
    "stopwords = ['movie', 'film', '\"the', \"a\", \"about\", \"above\", \"above\", \"across\", \"after\", \"afterwards\", \"again\", \"against\", \"all\", \"almost\", \"alone\", \"along\", \"already\", \"also\",\"although\",\"always\",\"am\",\"among\", \"amongst\", \"amoungst\", \"amount\",  \"an\", \"and\", \"another\", \"any\",\"anyhow\",\"anyone\",\"anything\",\"anyway\", \"anywhere\", \"are\", \"around\", \"as\",  \"at\", \"back\",\"be\",\"became\", \"because\",\"become\",\"becomes\", \"becoming\", \"been\", \"before\", \"beforehand\", \"behind\", \"being\", \"below\", \"beside\", \"besides\", \"between\", \"beyond\", \"bill\", \"both\", \"bottom\",\"but\", \"by\", \"call\", \"can\", \"cannot\", \"cant\", \"co\", \"con\", \"could\", \"couldnt\", \"cry\", \"de\", \"describe\", \"detail\", \"do\", \"done\", \"down\", \"due\", \"during\", \"each\", \"eg\", \"eight\", \"either\", \"eleven\",\"else\", \"elsewhere\", \"empty\", \"enough\", \"etc\", \"even\", \"ever\", \"every\", \"everyone\", \"everything\", \"everywhere\", \"except\", \"few\", \"fifteen\", \"fify\", \"fill\", \"find\", \"fire\", \"first\", \"five\", \"for\", \"former\", \"formerly\", \"forty\", \"found\", \"four\", \"from\", \"front\", \"full\", \"further\", \"get\", \"give\", \"go\", \"had\", \"has\", \"hasnt\", \"have\", \"he\", \"hence\", \"her\", \"here\", \"hereafter\", \"hereby\", \"herein\", \"hereupon\", \"hers\", \"herself\", \"him\", \"himself\", \"his\", \"how\", \"however\", \"hundred\", \"ie\", \"if\", \"in\", \"inc\", \"indeed\", \"interest\", \"into\", \"is\", \"it\", \"its\", \"itself\", \"keep\", \"last\", \"latter\", \"latterly\", \"least\", \"less\", \"ltd\", \"made\", \"many\", \"may\", \"me\", \"meanwhile\", \"might\", \"mill\", \"mine\", \"more\", \"moreover\", \"most\", \"mostly\", \"move\", \"much\", \"must\", \"my\", \"myself\", \"name\", \"namely\", \"neither\", \"never\", \"nevertheless\", \"next\", \"nine\", \"no\", \"nobody\", \"none\", \"noone\", \"nor\", \"not\", \"nothing\", \"now\", \"nowhere\", \"of\", \"off\", \"often\", \"on\", \"once\", \"one\", \"only\", \"onto\", \"or\", \"other\", \"others\", \"otherwise\", \"our\", \"ours\", \"ourselves\", \"out\", \"over\", \"own\",\"part\", \"per\", \"perhaps\", \"please\", \"put\", \"rather\", \"re\", \"same\", \"see\", \"seem\", \"seemed\", \"seeming\", \"seems\", \"serious\", \"several\", \"she\", \"should\", \"show\", \"side\", \"since\", \"sincere\", \"six\", \"sixty\", \"so\", \"some\", \"somehow\", \"someone\", \"something\", \"sometime\", \"sometimes\", \"somewhere\", \"still\", \"such\", \"system\", \"take\", \"ten\", \"than\", \"that\", \"the\", \"their\", \"them\", \"themselves\", \"then\", \"thence\", \"there\", \"thereafter\", \"thereby\", \"therefore\", \"therein\", \"thereupon\", \"these\", \"they\", \"thickv\", \"thin\", \"third\", \"this\", \"those\", \"though\", \"three\", \"through\", \"throughout\", \"thru\", \"thus\", \"to\", \"together\", \"too\", \"top\", \"toward\", \"towards\", \"twelve\", \"twenty\", \"two\", \"un\", \"under\", \"until\", \"up\", \"upon\", \"us\", \"very\", \"via\", \"was\", \"we\", \"well\", \"were\", \"what\", \"whatever\", \"when\", \"whence\", \"whenever\", \"where\", \"whereafter\", \"whereas\", \"whereby\", \"wherein\", \"whereupon\", \"wherever\", \"whether\", \"which\", \"while\", \"whither\", \"who\", \"whoever\", \"whole\", \"whom\", \"whose\", \"why\", \"will\", \"with\", \"within\", \"without\", \"would\", \"yet\", \"you\", \"your\", \"yours\", \"yourself\", \"yourselves\", \"the\"]\n",
    "\n",
    "\n",
    "# Extract the vocabulary of keywords\n",
    "vocab = dict()\n",
    "sort_item = []\n",
    "word_list = []\n",
    "with open(\"MostFreq.txt\", 'w') as outfile: #preprocess file content based\n",
    "    for i in xrange(len(df)):\n",
    "        avg_str = '\\t'.join([str(df.index[i]), 'rating(avg)', str(df.ix[i,1])])\n",
    "        avg_str = avg_str + '\\n'\n",
    "        outfile.write(avg_str)\n",
    "        for text in df.ix[i,0].split(','):\n",
    "            for term in text.split():\n",
    "                term = term.lower()\n",
    "                if len(term) > 2 and term not in stopwords:\n",
    "                    if vocab.has_key(term):\n",
    "                        vocab[term] = vocab[term] + 1\n",
    "                    else:\n",
    "                        vocab[term] = 1\n",
    "        # Remove terms whose frequencies are less than a threshold (e.g., 20)\n",
    "        vocab = {term: freq for term, freq in vocab.items() if freq > 100}\n",
    "        sort_item = sorted(vocab, key=vocab.__getitem__, reverse=True)[:5]\n",
    "        ##################\n",
    "        #write down each word to file (new format)\n",
    "        for item in sort_item:\n",
    "            item_str = '\\t'.join([str(df.index[i]), item, str(1)])\n",
    "            item_str = item_str + '\\n'\n",
    "            outfile.write(item_str)\n",
    "        ##################\n",
    "        \n",
    "        word_list.append(sort_item)\n",
    "        vocab = dict()\n",
    "        sort_item = []\n",
    "print 'Finished getting most frequence word'"
   ]
  },
  {
   "cell_type": "code",
   "execution_count": 3,
   "metadata": {
    "collapsed": false
   },
   "outputs": [
    {
     "name": "stdout",
     "output_type": "stream",
     "text": [
      "Finished content based\n"
     ]
    }
   ],
   "source": [
    "from scipy import spatial\n",
    "import pandas as pd\n",
    "\n",
    "\n",
    "#read review text & avg rating\n",
    "f = open('MostFreq.txt') #from content_based.py\n",
    "data = []\n",
    "\n",
    "for line in f:\n",
    "    line = line.rstrip('\\n').split('\\t')\n",
    "    if line[1] == 'rating(avg)':\n",
    "        line[2] = float(line[2]) # convert str to float\n",
    "    else:\n",
    "        line[2] = float(line[2])# convert to int\n",
    "    data.append(line)\n",
    "\n",
    "df = pd.DataFrame(data)\n",
    "\n",
    "#read price\n",
    "df2 = pd.read_csv('MetaData.csv', index_col='asin')\n",
    "\n",
    "#create matrix\n",
    "data = None\n",
    "M = df.pivot_table(values=2, index=0, columns=1).fillna(value=0)\n",
    "\n",
    "\n",
    "#merge\n",
    "merge_item = pd.merge(M, df2, left_index=True, right_index=True, how='inner').fillna(value=0)\n",
    "\n",
    "#merge_item.to_csv('Example_mat.csv')\n",
    "\n",
    "#create table to hold result\n",
    "result = pd.DataFrame(index=merge_item.index,columns=merge_item.index)\n",
    "\n",
    "\n",
    "#for each item\n",
    "for i in range(0,len(merge_item.index)):\n",
    "    #compare with another item\n",
    "    for j in range(0,len(merge_item.index)): \n",
    "        #find cosine similarity of item1 and item2\n",
    "        result.ix[i,j] = 1-spatial.distance.cosine(merge_item.ix[i,:],merge_item.ix[j,:])\n",
    "        \n",
    "result.to_csv('content_cosine.csv')\n",
    "#table to hold the similarity of item\n",
    "rank = pd.DataFrame(index=result.columns,columns=range(1,11))\n",
    "\n",
    "#rank data based on cosine similarity(10)\n",
    "for i in range(0,len(result.columns)):\n",
    "    rank.ix[i,:10] = result.ix[0:,i].sort_values(ascending=False)[:10].index\n",
    "    \n",
    "#for i in range(0,len(result.columns)): \n",
    "#    rank.ix[i,:] = df1.ix[0:,i].order(ascending=False)[:].index\n",
    "\n",
    "#write to file\n",
    "rank.to_csv('result_content_All.csv')\n",
    "print 'Finished content based'"
   ]
  },
  {
   "cell_type": "markdown",
   "metadata": {},
   "source": [
    "## Testing"
   ]
  },
  {
   "cell_type": "markdown",
   "metadata": {},
   "source": [
    "Create user to item table"
   ]
  },
  {
   "cell_type": "code",
   "execution_count": 4,
   "metadata": {
    "collapsed": false
   },
   "outputs": [
    {
     "name": "stdout",
     "output_type": "stream",
     "text": [
      "90846\n"
     ]
    }
   ],
   "source": [
    "import pandas as pd\n",
    "from pandas import *\n",
    "\n",
    "def readcsv(path):\n",
    "    return pd.read_csv(path, iterator=True, chunksize=10000, skip_blank_lines=True)\n",
    "\n",
    "def f(x):\n",
    "    return Series(dict(Product_ID=\"{%s}\" % ', '.join(str(ele) for ele in x['asin'])))\n",
    "\n",
    "tp = readcsv(\"Testing20%.csv\") #get file from read_csv.py\n",
    "df = concat(tp, ignore_index=True)\n",
    "\n",
    "df = df.groupby(\"reviewerID\").filter(lambda x: len(x) > 1)\n",
    "df = df.groupby(\"reviewerID\").apply(f)\n",
    "\n",
    "print len(df)\n",
    "\n",
    "df.to_csv(\"UserToItemTableTest.csv\")"
   ]
  },
  {
   "cell_type": "markdown",
   "metadata": {},
   "source": [
    "using precision recall for testing"
   ]
  },
  {
   "cell_type": "code",
   "execution_count": 2,
   "metadata": {
    "collapsed": false
   },
   "outputs": [
    {
     "data": {
      "image/png": "[encoded data removed]",
      "text/plain": [
       "<matplotlib.figure.Figure at 0x6c88518>"
      ]
     },
     "metadata": {},
     "output_type": "display_data"
    }
   ],
   "source": [
    "import pandas as pd\n",
    "from pandas import *\n",
    "import random\n",
    "import math\n",
    "import matplotlib.pyplot as plt\n",
    "\n",
    "f = open('UserToItemTableTest.csv') #from UserToItemTable.py\n",
    "all_item = []\n",
    "hide_item = []\n",
    "y_true = []\n",
    "#print df['Product_ID']\n",
    "for item in f:\n",
    "    item = item.replace('{', '').replace('}', '').replace('\"', '').replace(' ', '')\n",
    "    item = item.rstrip().split(',')\n",
    "    all_item.append(item)\n",
    "    y_true.append(item[1:])\n",
    "    random_item = random.sample(item[1:], int(round((len(item)*0.6) - 0.5))) #hide 40% of data\n",
    "#    print random_item\n",
    "#    random_item.insert(0, item[0]) #insert reviewerid infront of list of itemid\n",
    "    hide_item.append(random_item)\n",
    "    \n",
    "del y_true[0]\n",
    "\n",
    "\n",
    "Precision_content = []\n",
    "Recall_content = []\n",
    "Precision_collab = []\n",
    "Recall_collab = []\n",
    "\n",
    "for it in range(2):\n",
    "    for k in xrange(1,10):\n",
    "        if (it == 0):\n",
    "            sim = open('result_content_All.csv') # content based\n",
    "        if (it == 1):\n",
    "            sim = open('result_CF_All.csv') # collaborative\n",
    "        \n",
    "        sim_item = []\n",
    "        sim_key = []\n",
    "    #    k = 9 #number of k\n",
    "        \n",
    "        #read similar item from file and append in list\n",
    "        sim_key = []\n",
    "        sim_item = []\n",
    "        \n",
    "        for item in sim:\n",
    "            item = item.rstrip().split(',')\n",
    "            sim_key.append(item[0])\n",
    "            sim_item.append(item[1:k+2])\n",
    "        sim.close()\n",
    "        \n",
    "        #set up y pred \n",
    "        y_pred = []\n",
    "        for i in xrange(1, len(hide_item)):\n",
    "            recommend_item = []\n",
    "            for j in hide_item[i]:\n",
    "                if j in sim_key:\n",
    "                    recommend_item = recommend_item + sim_item[sim_key.index(j)][1:]\n",
    "            if (len(recommend_item) != 0):\n",
    "                recommend_item = list(set(recommend_item) - set(hide_item[i]))\n",
    "            y_pred.append(recommend_item)\n",
    "        \n",
    "        \n",
    "        total_recall = 0.0\n",
    "        total_precision = 0.0\n",
    "        max_recall = 0.0\n",
    "        max_precision = 0.0\n",
    "        ##calculate precision & recall\n",
    "        for i in xrange(len(y_true)):\n",
    "            if len(y_pred[i]) == 0:\n",
    "                total_precision += 0.0\n",
    "                total_recall += 0.0\n",
    "            else:\n",
    "                tp = len(list(set(y_true[i]) & set(y_pred[i])))\n",
    "                precision = float(tp)/float(len(y_pred[i]))\n",
    "                recall = float(tp)/float(len(y_true[i]))\n",
    "                if (precision > max_precision):\n",
    "                    max_precision = precision\n",
    "                if (recall > max_recall):\n",
    "                    max_recall = recall\n",
    "                total_precision += precision\n",
    "                total_recall += recall\n",
    "                \n",
    "                \n",
    "        total_precision = (total_precision/len(y_true))\n",
    "        total_recall = (total_recall/len(y_true))\n",
    "        if (it == 0):\n",
    "            Precision_content.append(total_precision)\n",
    "            Recall_content.append(total_recall)\n",
    "        if (it == 1):\n",
    "            Precision_collab.append(total_precision)\n",
    "            Recall_collab.append(total_recall)\n",
    "\n",
    "\n",
    "#normalize data to be in range [0,1]\n",
    "norm_precision_collab = [float(i)/max(Precision_collab) for i in Precision_collab]\n",
    "\n",
    "norm_recall_collab = [float(i)/max(Recall_collab) for i in Recall_collab]\n",
    "\n",
    "norm_precision_content = [float(i)/max(Precision_content) for i in Precision_content]\n",
    " \n",
    "norm_recall_content = [float(i)/max(Recall_content) for i in Recall_content]\n",
    "\n",
    "plt.figure(figsize=(10,10))\n",
    "plt.plot(norm_recall_collab, norm_precision_collab, 'r-o', label = 'Collaborative filtering review')\n",
    "plt.plot(norm_recall_content,norm_precision_content, 'b-o', label = 'Content-based review')\n",
    "plt.ylabel('Precision')\n",
    "plt.xlabel('Recall')\n",
    "\n",
    "plt.axis()\n",
    "plt.legend(loc='upper right')\n",
    "\n",
    "plt.show()"
   ]
  },
  {
   "cell_type": "markdown",
   "metadata": {
    "collapsed": true
   },
   "source": [
    "We calculate the precision and recall based on the number of items that fall into each cell. The maximum numbers of recommended item is 10 in our project.\n",
    "for the figure, if we increase the numbers of recommended item the precision will decrease while the recall will increase. The collaborative filtering tends to have a better performance than the content based."
   ]
  }
 ],
 "metadata": {
  "anaconda-cloud": {},
  "kernelspec": {
   "display_name": "Python [default]",
   "language": "python",
   "name": "python2"
  },
  "language_info": {
   "codemirror_mode": {
    "name": "ipython",
    "version": 2.0
   },
   "file_extension": ".py",
   "mimetype": "text/x-python",
   "name": "python",
   "nbconvert_exporter": "python",
   "pygments_lexer": "ipython2",
   "version": "2.7.12"
  }
 },
 "nbformat": 4,
 "nbformat_minor": 0
}